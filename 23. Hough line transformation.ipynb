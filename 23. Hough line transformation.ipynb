{
 "cells": [
  {
   "cell_type": "code",
   "execution_count": 2,
   "metadata": {},
   "outputs": [],
   "source": [
    "# Hough Transfor is popular technique to detect any shape, if you can represent that shape in a mathametical form.\n",
    "# it can detect the shape if it is broken or distorted a little bit"
   ]
  },
  {
   "cell_type": "code",
   "execution_count": 3,
   "metadata": {},
   "outputs": [],
   "source": [
    "# A line in a image space can be expressed with two variables. \n",
    "# 1. cartesian cordinate system, 2. Polar cordinate system"
   ]
  },
  {
   "cell_type": "code",
   "execution_count": 4,
   "metadata": {},
   "outputs": [],
   "source": [
    "# 1. y =mx+c # not use because not able to detect vertical line\n",
    "# 2. y.sin() + x.cos() = r #use in Hough Transfor"
   ]
  },
  {
   "cell_type": "code",
   "execution_count": 5,
   "metadata": {},
   "outputs": [],
   "source": [
    "# 4 step:\n",
    "# 1. edge detection using Canny edge detector\n",
    "# 2. Maping of edge points to the Hough space and storage in accumulator\n",
    "# 3. Interpretation of the accumulator to yeild lines of infinite length\n",
    "#     Interpretation done by thresholding and possibly other constrain\n",
    "# 4. Conversion of infinite lines to finite lines."
   ]
  },
  {
   "cell_type": "code",
   "execution_count": 6,
   "metadata": {},
   "outputs": [],
   "source": [
    "# Two kind of Hough line  transform\n",
    "# 1. The standard Hough Transform\n",
    "# 2. The Probabilistic Hough Line Transform"
   ]
  },
  {
   "cell_type": "code",
   "execution_count": 7,
   "metadata": {},
   "outputs": [],
   "source": [
    "import cv2\n",
    "import numpy as np"
   ]
  },
  {
   "cell_type": "code",
   "execution_count": 13,
   "metadata": {},
   "outputs": [],
   "source": [
    "# Hough Line Method\n",
    "img = cv2.imread(\"sudoku.png\")\n",
    "gray = cv2.cvtColor(img, cv2.COLOR_BGR2GRAY)\n",
    "edges = cv2.Canny(gray, 50,150, apertureSize=3)\n",
    "cv2.imshow(\"edges\", edges)\n",
    "lines = cv2.HoughLines(edges, 1, np.pi/180, 200)\n",
    "\n",
    "for line in lines:\n",
    "    rho, theta = line[0]\n",
    "    a = np.cos(theta)\n",
    "    b = np.sin(theta)\n",
    "    x0 = a*rho\n",
    "    y0 = b*rho\n",
    "    # x1 stores the rounded off value of (r*cos(theta) - 1000*sin(theta))\n",
    "    x1 = int(x0 + 1000*(-b))\n",
    "    # y1 stores the rounded off value of (r*sin(theta) - 1000*cos(theta))\n",
    "    y1 = int(y0 + 1000*(a))\n",
    "    # x2 stores the rounded off value of (r*cos(theta) - 1000*sin(theta))\n",
    "    x2 = int(x0 - 1000*(-b))\n",
    "    # y2 stores the rounded off value of (r*sin(theta) - 1000*cos(theta))\n",
    "    y2 = int(y0 - 1000*(a))\n",
    "    cv2.line(img, (x1,y1), (x2,y2), (0,0,255), 2)\n",
    "    \n",
    "cv2.imshow(\"image\", img)\n",
    "cv2.waitKey(0)\n",
    "cv2.destroyAllWindows()"
   ]
  },
  {
   "cell_type": "code",
   "execution_count": 14,
   "metadata": {},
   "outputs": [],
   "source": [
    "# Probabilistic Hough Line method\n",
    "# Hough Line Method\n",
    "img = cv2.imread(\"sudoku.png\")\n",
    "gray = cv2.cvtColor(img, cv2.COLOR_BGR2GRAY)\n",
    "edges = cv2.Canny(gray, 50,150, apertureSize=3)\n",
    "cv2.imshow(\"edges\", edges)\n",
    "lines = cv2.HoughLinesP(edges, 1, np.pi/180, 100, minLineLength=100, maxLineGap=10)\n",
    "\n",
    "for line in lines:\n",
    "    x1,y1,x2,y2 = line[0]\n",
    "    cv2.line(img, (x1,y1), (x2,y2), (0,0,255), 2)\n",
    "    \n",
    "cv2.imshow(\"image\", img)\n",
    "cv2.waitKey(0)\n",
    "cv2.destroyAllWindows()"
   ]
  },
  {
   "cell_type": "code",
   "execution_count": null,
   "metadata": {},
   "outputs": [],
   "source": [
    "\n"
   ]
  }
 ],
 "metadata": {
  "kernelspec": {
   "display_name": "Python 3",
   "language": "python",
   "name": "python3"
  },
  "language_info": {
   "codemirror_mode": {
    "name": "ipython",
    "version": 3
   },
   "file_extension": ".py",
   "mimetype": "text/x-python",
   "name": "python",
   "nbconvert_exporter": "python",
   "pygments_lexer": "ipython3",
   "version": "3.7.3"
  }
 },
 "nbformat": 4,
 "nbformat_minor": 2
}
