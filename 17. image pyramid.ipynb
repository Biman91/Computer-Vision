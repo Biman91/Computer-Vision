{
 "cells": [
  {
   "cell_type": "code",
   "execution_count": 2,
   "metadata": {},
   "outputs": [],
   "source": [
    "import cv2\n",
    "import numpy as np"
   ]
  },
  {
   "cell_type": "code",
   "execution_count": 8,
   "metadata": {},
   "outputs": [],
   "source": [
    "# Pyramid represent is a type of multi scale signal or image\n",
    "# two types: 1. Gausian pyramid, 2. Laplasian pyramid\n",
    "# reconstruct image\n",
    "\n",
    "img = cv2.imread(\"lena.jpg\")\n",
    "lr1 = cv2.pyrDown(img)\n",
    "lr2 = cv2.pyrDown(lr1)\n",
    "\n",
    "hr1 = cv2.pyrUp(lr2)\n",
    "\n",
    "cv2.imshow(\"Original image\", img)\n",
    "cv2.imshow(\"PyrDown 1 image\", lr1)\n",
    "cv2.imshow(\"PyrDown 2 image\", lr2)\n",
    "cv2.imshow(\"PyrUp 1 image\", hr1)\n",
    "\n",
    "cv2.waitKey(0)\n",
    "cv2.destroyAllWindows()"
   ]
  },
  {
   "cell_type": "code",
   "execution_count": 10,
   "metadata": {},
   "outputs": [],
   "source": [
    "# 1. Gausian pyramid,\n",
    "\n",
    "img = cv2.imread(\"lena.jpg\")\n",
    "layer = img.copy()\n",
    "gp = [layer]\n",
    "for i in range(4):\n",
    "    layer = cv2.pyrDown(layer)\n",
    "    gp.append(layer)\n",
    "    cv2.imshow(str(i), layer)\n",
    "\n",
    "\n",
    "cv2.imshow(\"Original image\", img)\n",
    "\n",
    "\n",
    "cv2.waitKey(0)\n",
    "cv2.destroyAllWindows()"
   ]
  },
  {
   "cell_type": "code",
   "execution_count": 3,
   "metadata": {},
   "outputs": [],
   "source": [
    "# Laplapsian is extened of gausian\n",
    "# 1. Gausian pyramid,\n",
    "\n",
    "img = cv2.imread(\"lena.jpg\")\n",
    "layer = img.copy()\n",
    "gp = [layer]\n",
    "for i in range(4):\n",
    "    layer = cv2.pyrDown(layer)\n",
    "    gp.append(layer)\n",
    "#     cv2.imshow(str(i), layer)\n",
    "    \n",
    "layer = gp[3]\n",
    "cv2.imshow(\"Upper lavel Gaussian pyramid\", layer)\n",
    "lp = [layer]\n",
    "\n",
    "for i in range(3,0,-1):\n",
    "    gaussian_extend = cv2.pyrUp(gp[i])\n",
    "    laplacian = cv2.subtract(gp[i-1], gaussian_extend)\n",
    "    cv2.imshow(str(i), laplacian)\n",
    "\n",
    "cv2.imshow(\"Original image\", img)\n",
    "\n",
    "cv2.waitKey(0)\n",
    "cv2.destroyAllWindows()"
   ]
  },
  {
   "cell_type": "code",
   "execution_count": null,
   "metadata": {},
   "outputs": [],
   "source": []
  }
 ],
 "metadata": {
  "kernelspec": {
   "display_name": "Python 3",
   "language": "python",
   "name": "python3"
  },
  "language_info": {
   "codemirror_mode": {
    "name": "ipython",
    "version": 3
   },
   "file_extension": ".py",
   "mimetype": "text/x-python",
   "name": "python",
   "nbconvert_exporter": "python",
   "pygments_lexer": "ipython3",
   "version": "3.7.3"
  }
 },
 "nbformat": 4,
 "nbformat_minor": 2
}
