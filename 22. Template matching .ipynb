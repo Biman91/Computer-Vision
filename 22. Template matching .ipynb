{
 "cells": [
  {
   "cell_type": "code",
   "execution_count": 1,
   "metadata": {},
   "outputs": [],
   "source": [
    "import cv2\n",
    "import numpy as np"
   ]
  },
  {
   "cell_type": "code",
   "execution_count": 11,
   "metadata": {},
   "outputs": [
    {
     "name": "stdout",
     "output_type": "stream",
     "text": [
      "[[ 0.04590957  0.02492268  0.00350578 ...  0.1331739   0.13252516\n",
      "   0.12799199]\n",
      " [ 0.03644399  0.01738107 -0.00178124 ...  0.12055782  0.11765827\n",
      "   0.11163652]\n",
      " [ 0.02616353  0.00932175 -0.00776539 ...  0.10842744  0.10390328\n",
      "   0.09628399]\n",
      " ...\n",
      " [ 0.22693364  0.2153092   0.20560218 ... -0.09364472 -0.08020408\n",
      "  -0.07588955]\n",
      " [ 0.22718237  0.21924375  0.21610412 ... -0.10811316 -0.09903625\n",
      "  -0.09328807]\n",
      " [ 0.22984974  0.22069359  0.21116294 ... -0.12015773 -0.11462525\n",
      "  -0.10919443]]\n",
      "(array([69], dtype=int64), array([201], dtype=int64))\n"
     ]
    }
   ],
   "source": [
    "# template matching is finding tempalte in large image\n",
    "img = cv2.imread(\"messi5.jpg\")\n",
    "gray_img = cv2.cvtColor(img, cv2.COLOR_BGR2GRAY)\n",
    "template = cv2.imread(\"messi_face.jpg\", 0)\n",
    "w,h =template.shape[::-1]\n",
    "\n",
    "res = cv2.matchTemplate(gray_img, template, cv2.TM_CCOEFF_NORMED)\n",
    "print(res)\n",
    "threshold = 0.94\n",
    "loc = np.where(res >= threshold)\n",
    "print(loc)\n",
    "for pt in zip(*loc[::-1]): #if there are many face in picture\n",
    "    cv2.rectangle(img, pt, (pt[0]+w, pt[1] + h), (0,0,255), 2)\n",
    "\n",
    "cv2.imshow('Image', img)\n",
    "cv2.imshow('template', template)\n",
    "\n",
    "cv2.waitKey(0)\n",
    "cv2.destroyAllWindows()"
   ]
  },
  {
   "cell_type": "code",
   "execution_count": 15,
   "metadata": {},
   "outputs": [
    {
     "name": "stdout",
     "output_type": "stream",
     "text": [
      "[[0.7062213  0.6987395  0.6911824  ... 0.7955926  0.7942308  0.7920781 ]\n",
      " [0.7029056  0.6960262  0.6891777  ... 0.79171634 0.789759   0.7871734 ]\n",
      " [0.69963926 0.6934643  0.6872766  ... 0.78773427 0.78531045 0.78225434]\n",
      " ...\n",
      " [0.8431039  0.8426693  0.8422922  ... 0.8108306  0.8135912  0.8152211 ]\n",
      " [0.84316677 0.84287065 0.8427444  ... 0.8091657  0.81150484 0.8133119 ]\n",
      " [0.84332395 0.8429777  0.84260136 ... 0.8076383  0.8096236  0.81142116]]\n",
      "(array([69], dtype=int64), array([201], dtype=int64))\n"
     ]
    }
   ],
   "source": [
    "# template matching is finding tempalte in large image\n",
    "img = cv2.imread(\"messi5.jpg\")\n",
    "gray_img = cv2.cvtColor(img, cv2.COLOR_BGR2GRAY)\n",
    "template = cv2.imread(\"messi_face.jpg\", 0)\n",
    "w,h =template.shape[::-1]\n",
    "\n",
    "res = cv2.matchTemplate(gray_img, template, cv2.TM_CCORR_NORMED)\n",
    "print(res)\n",
    "threshold = 0.99\n",
    "loc = np.where(res >= threshold)\n",
    "print(loc)\n",
    "for pt in zip(*loc[::-1]): #if there are many face in picture\n",
    "    cv2.rectangle(img, pt, (pt[0]+w, pt[1] + h), (0,0,255), 2)\n",
    "\n",
    "cv2.imshow('Image', img)\n",
    "cv2.imshow('template', template)\n",
    "\n",
    "cv2.waitKey(0)\n",
    "cv2.destroyAllWindows()"
   ]
  },
  {
   "cell_type": "code",
   "execution_count": null,
   "metadata": {},
   "outputs": [],
   "source": []
  }
 ],
 "metadata": {
  "kernelspec": {
   "display_name": "Python 3",
   "language": "python",
   "name": "python3"
  },
  "language_info": {
   "codemirror_mode": {
    "name": "ipython",
    "version": 3
   },
   "file_extension": ".py",
   "mimetype": "text/x-python",
   "name": "python",
   "nbconvert_exporter": "python",
   "pygments_lexer": "ipython3",
   "version": "3.7.3"
  }
 },
 "nbformat": 4,
 "nbformat_minor": 2
}
