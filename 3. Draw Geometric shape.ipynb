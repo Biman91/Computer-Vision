{
 "cells": [
  {
   "cell_type": "code",
   "execution_count": 3,
   "metadata": {},
   "outputs": [],
   "source": [
    "import numpy as np\n",
    "import cv2"
   ]
  },
  {
   "cell_type": "code",
   "execution_count": 10,
   "metadata": {},
   "outputs": [],
   "source": [
    "# img = cv2.imread(\"lena.jpg\", 1)\n",
    "img = np.zeros([512,512,3], np.uint8) # read image by numpy array\n",
    "\n",
    "img = cv2.line(img, (1,1), (255,255), (0, 0, 255), 3) # going to red line\n",
    "img = cv2.arrowedLine(img, (240,1), (200,200), (255, 0, 0), 3) # draw arrowline\n",
    "\n",
    "img = cv2.rectangle(img, (384,0), (510,128), (0,255,255), 3) # create rectangle, 3 is thikness, -1 will fill the color\n",
    "\n",
    "img = cv2.circle(img, (447,63), 63, (255,0,0), -1) # draw circle\n",
    "\n",
    "font = cv2.FONT_HERSHEY_SIMPLEX\n",
    "img = cv2.putText(img, 'OpenCV', (10,500), font, 4, (255,255,255), 10, cv2.LINE_AA) # write something\n",
    "\n",
    "cv2.imshow('image', img)\n",
    "\n",
    "cv2.waitKey(0)\n",
    "cv2.destroyAllWindows()"
   ]
  },
  {
   "cell_type": "code",
   "execution_count": null,
   "metadata": {},
   "outputs": [],
   "source": []
  },
  {
   "cell_type": "code",
   "execution_count": null,
   "metadata": {},
   "outputs": [],
   "source": []
  }
 ],
 "metadata": {
  "kernelspec": {
   "display_name": "Python 3",
   "language": "python",
   "name": "python3"
  },
  "language_info": {
   "codemirror_mode": {
    "name": "ipython",
    "version": 3
   },
   "file_extension": ".py",
   "mimetype": "text/x-python",
   "name": "python",
   "nbconvert_exporter": "python",
   "pygments_lexer": "ipython3",
   "version": "3.7.3"
  }
 },
 "nbformat": 4,
 "nbformat_minor": 2
}
