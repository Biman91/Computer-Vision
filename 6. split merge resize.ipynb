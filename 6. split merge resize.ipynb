{
 "cells": [
  {
   "cell_type": "code",
   "execution_count": 1,
   "metadata": {},
   "outputs": [],
   "source": [
    "import numpy as np\n",
    "import cv2"
   ]
  },
  {
   "cell_type": "code",
   "execution_count": 10,
   "metadata": {},
   "outputs": [
    {
     "name": "stdout",
     "output_type": "stream",
     "text": [
      "(342, 548, 3)\n",
      "562248\n",
      "uint8\n"
     ]
    }
   ],
   "source": [
    "img = cv2.imread('messi5.jpg')\n",
    "img2 = cv2.imread(\"opencv-logo.png\")\n",
    "\n",
    "print(img.shape) # return tuple of number of row, column, channel\n",
    "print(img.size) # total number of pixel\n",
    "print(img.dtype) # returns image datatype\n",
    "\n",
    "b,g,r = cv2.split(img)\n",
    "\n",
    "img = cv2.merge((b,g,r))\n",
    "\n",
    "# copy ball and place any where\n",
    "ball = img[280:340, 330:390] # ROI region of interest\n",
    "img[273:333, 100:160] = ball\n",
    "\n",
    "img = cv2.resize(img, (512,512))\n",
    "img2 = cv2.resize(img2, (512,512))\n",
    "\n",
    "# dst = cv2.add(img,img2); # merge 2 image\n",
    "dst = cv2.addWeighted(img,.7, img2,.3, 0) #give weight on image\n",
    "\n",
    "cv2.imshow(\"image\", dst)\n",
    "cv2.waitKey(0)\n",
    "cv2.destroyAllWindows()"
   ]
  },
  {
   "cell_type": "code",
   "execution_count": null,
   "metadata": {},
   "outputs": [],
   "source": []
  }
 ],
 "metadata": {
  "kernelspec": {
   "display_name": "Python 3",
   "language": "python",
   "name": "python3"
  },
  "language_info": {
   "codemirror_mode": {
    "name": "ipython",
    "version": 3
   },
   "file_extension": ".py",
   "mimetype": "text/x-python",
   "name": "python",
   "nbconvert_exporter": "python",
   "pygments_lexer": "ipython3",
   "version": "3.7.3"
  }
 },
 "nbformat": 4,
 "nbformat_minor": 2
}
